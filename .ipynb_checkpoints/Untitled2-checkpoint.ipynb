{
 "cells": [
  {
   "cell_type": "code",
   "execution_count": null,
   "metadata": {
    "collapsed": false
   },
   "outputs": [],
   "source": [
    "import tensorflow as tf\n",
    "\n",
    "def merge_sort_tf(vec):\n",
    "    vec_len = tf.shape(vec)[0]\n",
    "    \n",
    "    def merge(vec):\n",
    "        mid_point = vec_len // 2\n",
    "        left, right = vec[:mid_point], vec[mid_point:]\n",
    "        left_merged = merge_sort_tf(left)\n",
    "        right_merged = merge_sort_tf(right)\n",
    "        return merge_tf(left, right)\n",
    "    \n",
    "    return tf.select(tf.less_equal(vec_len, 1), vec, merge(vec))\n",
    "\n",
    "def merge_tf(left, right):\n",
    "    result = []\n",
    "    \n",
    "    left_len, right_len = tf.shape(left)[0], tf.shape(right)[0]\n",
    "    left_index, right_index = 0, 0\n",
    "    \n",
    "    while left_index < left_len and right_index < right_len:\n",
    "        if left[left_index] >= right[right_index]:\n",
    "            result.append(right[right_index])\n",
    "            right_index += 1\n",
    "        else:\n",
    "            result.append(left[left_index])\n",
    "            left_index += 1\n",
    "            \n",
    "    if left_index < left_len:\n",
    "        result = result + left[left_index:]\n",
    "        \n",
    "    if right_index < right_len:\n",
    "        result = result + left[right_index:]\n",
    "    \n",
    "    return tf.Variable(result)\n",
    "    \n",
    "X = tf.Variable([1.0, 2.0, 0.0])\n",
    "with tf.Session() as sess:\n",
    "    sess.run(tf.initialize_all_variables())\n",
    "    print(sess.run(merge_sort_tf(X)))"
   ]
  },
  {
   "cell_type": "code",
   "execution_count": null,
   "metadata": {
    "collapsed": true
   },
   "outputs": [],
   "source": []
  }
 ],
 "metadata": {
  "kernelspec": {
   "display_name": "Python 3",
   "language": "python",
   "name": "python3"
  },
  "language_info": {
   "codemirror_mode": {
    "name": "ipython",
    "version": 3
   },
   "file_extension": ".py",
   "mimetype": "text/x-python",
   "name": "python",
   "nbconvert_exporter": "python",
   "pygments_lexer": "ipython3",
   "version": "3.5.2"
  }
 },
 "nbformat": 4,
 "nbformat_minor": 1
}
